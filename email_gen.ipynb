{
 "cells": [
  {
   "cell_type": "markdown",
   "metadata": {},
   "source": [
    "# 1. Fetching the relevant information in JSON format"
   ]
  },
  {
   "cell_type": "code",
   "execution_count": 3,
   "metadata": {},
   "outputs": [],
   "source": [
    "from langchain_groq import ChatGroq"
   ]
  },
  {
   "cell_type": "code",
   "execution_count": 4,
   "metadata": {},
   "outputs": [],
   "source": [
    "llm = ChatGroq(\n",
    "    temperature = 0,\n",
    "    api_key = \"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\" ,\n",
    "    model = \"llama-3.3-70b-versatile\"\n",
    ")"
   ]
  },
  {
   "cell_type": "code",
   "execution_count": null,
   "metadata": {},
   "outputs": [
    {
     "name": "stderr",
     "output_type": "stream",
     "text": [
      "USER_AGENT environment variable not set, consider setting it to identify your requests.\n"
     ]
    },
    {
     "name": "stdout",
     "output_type": "stream",
     "text": [
      "\n",
      "\n",
      "\n",
      "\n",
      "\n",
      "\n",
      "\n",
      "\n",
      "\n",
      "Machine Learning Engineer - Data Quality - Jobs at Apple (IN)\n",
      "\n",
      "\n",
      "\n",
      "\n",
      "\n",
      "\n",
      "\n",
      "AppleStoreMaciPadiPhoneWatchAirPodsTV & HomeEntertainmentAccessoriesSupport\n",
      "\n",
      "\n",
      "0+\n",
      "Jobs at AppleOpen MenuClose Menu\n",
      "\n",
      "      Work at Apple\n",
      "    \n",
      " \n",
      "\n",
      "      Life at Apple\n",
      "    \n",
      " \n",
      "\n",
      "      Profile\n",
      "    \n",
      " \n",
      "\n",
      "      Sign In\n",
      "    \n",
      " \n",
      "Search\n",
      "Jobs at Apple\n",
      "Machine Learning Engineer - Data QualityBengaluru, Karnataka, IndiaOperations and Supply ChainAdd to Favourites Machine Learning Engineer - Data QualityRemoved from favouritesAdd a favoriteCloseTo view your favourites, sign in with your Apple Account.Sign InDon’t have an Apple Account?Create one nowForgot your Apple Account or password?Submit CVMachine Learning Engineer - Data QualityBack to search resultsSummaryPosted: 11 Mar 2025Role Number:200594546Join Apple’s Data Management Team and Shape the Future of Reliable Data in the Manufacturing Space!\n",
      "\n",
      "At Apple, we believe that great decisions start with great data. Our Data Quality team within Operations is looking for a Machine Learning Engineer with Software Engineering background to help ensure the integrity, accuracy, and reliability of mission-critical data. In this role, you will design and build scalable ML-driven solutions for data validation, anomaly detection, and quality monitoring—helping Apple’s global operations run with precision and confidence. If you're passionate about applying cutting-edge machine learning to solve real-world data challenges at scale, come join us in pushing the boundaries of what’s possible.DescriptionDescriptionAt Apple, we rely on high-quality data to drive critical decisions across our global operations. We are looking for a Machine Learning Engineer with software engineering skills to develop and deploy ML-driven data validation solutions that ensure data integrity. In this role, you will build scalable anomaly detection systems, work on Gen AI projects, collaborate with data engineering teams to enhance data quality frameworks, and drive innovations in MLOps and data monitoring.\n",
      "\n",
      "- Develop ML-based data validation and monitoring solutions, focusing on anomaly detection and explainability.\n",
      "\n",
      "- Analyze large datasets to detect data drift, integrity issues, and emerging quality risks.\n",
      "\n",
      "- Apply the full ML lifecycle, from exploratory data analysis (EDA) and feature engineering to model selection, training, deployment, and monitoring.\n",
      "\n",
      "- Experiment with different methodologies to improve model accuracy and reliability.\n",
      "\n",
      "- Collaborate with data engineering teams to design frameworks for detecting missing, inconsistent, or duplicate data.\n",
      "\n",
      "- Investigate root causes of data quality issues and propose scalable, automated solutions.\n",
      "\n",
      "- Stay up to date with the latest advancements in data science, MLOps, and data engineering best practices.Minimum QualificationsMinimum Qualifications3+ industry experience in building ML solutions and collaborating with software teams.Strong experience in machine learning for anomaly detection, data validation, or data quality improvement.Proficiency in Python (Pandas, NumPy, Scikit-learn, PyTorch/TensorFlow, etc.).Hands-on experience with SQL and databases (PostgreSQL, Snowflake, MySQL, etc.).Strong knowledge of statistical methods (PCA, exponential smoothing, and etc.) for detecting anomalies, drift, and inconsistencies.Experience with version control (Git) and software development best practices.Key QualificationsKey QualificationsPreferred QualificationsPreferred QualificationsExperience with MLOps tools (MLflow, Kubeflow) for managing data quality models.Exposure to big data frameworks (Spark, Kafka) for real-time data validation.Familiarity with CI/CD for data pipelines and model deployments.Strong problem-solving skills and ability to diagnose complex data issues.Experience working with large-scale structured and unstructured data.Familiarity with data engineering concepts, including ETL pipelines, batch/stream processing.Education & ExperienceEducation & ExperienceAdditional RequirementsAdditional RequirementsMoreSubmit CVMachine Learning Engineer - Data QualityBack to search resultsAdd to Favourites Machine Learning Engineer - Data QualityRemoved from favouritesAdd a favoriteCloseTo view your favourites, sign in with your Apple Account.Sign InDon’t have an Apple Account?Create one nowForgot your Apple Account or password?See all roles in  Bengaluru  \n",
      "Apple FooterAt Apple, we’re not all the same. And that’s our greatest strength. We draw on the differences in who we are, what we’ve experienced, and how we think. Because to create products that serve everyone, we believe in including everyone. Therefore, we are committed to treating all applicants fairly and equally. We will work with applicants to make any reasonable accommodations.AppleCareers at AppleCareers at AppleShop and LearnShop and LearnStoreMaciPadiPhoneWatchAirPodsTV & HomeAirTagAccessoriesGift CardsApple WalletApple WalletWalletAccountAccountManage Your Apple IDApple Store AccountiCloud.comEntertainmentEntertainmentApple OneApple TV+Apple MusicApple ArcadeApple PodcastsApple BooksApp StoreApple StoreApple StoreFind a StoreGenius BarToday at AppleGroup ReservationsApple CampApple Trade InWays to BuyRecycling ProgrammeOrder StatusShopping HelpFor BusinessFor BusinessApple and BusinessShop for BusinessFor EducationFor EducationApple and EducationShop for EducationShop for UniversityFor HealthcareFor HealthcareApple in HealthcareHealth on Apple WatchApple ValuesApple ValuesAccessibilityEducationEnvironmentPrivacySupply ChainAbout AppleAbout AppleNewsroomApple LeadershipCareer OpportunitiesInvestorsEthics & ComplianceEventsContact Apple\n",
      "More ways to shop: Find an Apple Store or other retailer near you. Or call 000800 040 1966.IndiaCopyright © 2024 Apple Inc. All rights reserved.Privacy PolicyTerms of UseSales PolicyLegalSite Map\n",
      "\n",
      "\n",
      "\n",
      "\n",
      "\n",
      "\n",
      "\n",
      "\n",
      "\n",
      "\n",
      "\n"
     ]
    }
   ],
   "source": [
    "from langchain_community.document_loaders import WebBaseLoader\n",
    "\n",
    "\n",
    "loader = WebBaseLoader(\"https://jobs.apple.com/en-in/details/200594546/machine-learning-engineer-data-quality?team=OPMFG\")\n",
    "page_data = loader.load().pop().page_content\n",
    "print(page_data)"
   ]
  },
  {
   "cell_type": "code",
   "execution_count": 10,
   "metadata": {},
   "outputs": [
    {
     "data": {
      "text/plain": [
       "str"
      ]
     },
     "execution_count": 10,
     "metadata": {},
     "output_type": "execute_result"
    }
   ],
   "source": [
    "from langchain_core.prompts import PromptTemplate\n",
    "\n",
    "prompt_extract = PromptTemplate.from_template(\n",
    "    \"\"\" SCRAP TEXT FROM WEBSITE:\n",
    "    {page_data}\n",
    "    ### INSTRUCTIONS:\n",
    "    The scraped text is from the career's pafe of a website.\n",
    "    Your job is to extract the job postings and return them in JSON format containing\n",
    "    following keys: 'role', 'experience', 'skills', and 'descriptions'.\n",
    "    Only return the valid JSON.\n",
    "    ## VALID JSON (NO PREAMBLE):\n",
    "    \"\"\"\n",
    ")\n",
    "\n",
    "chain_extract = prompt_extract | llm \n",
    "res = chain_extract.invoke(input={'page_data':page_data})\n",
    "type(res.content)"
   ]
  },
  {
   "cell_type": "code",
   "execution_count": 17,
   "metadata": {},
   "outputs": [
    {
     "data": {
      "text/plain": [
       "['Python (Pandas, NumPy, Scikit-learn, PyTorch/TensorFlow, etc.)',\n",
       " 'SQL and databases (PostgreSQL, Snowflake, MySQL, etc.)',\n",
       " 'Statistical methods (PCA, exponential smoothing, etc.)',\n",
       " 'Version control (Git) and software development best practices',\n",
       " 'MLOps tools (MLflow, Kubeflow)',\n",
       " 'Big data frameworks (Spark, Kafka)',\n",
       " 'CI/CD for data pipelines and model deployments']"
      ]
     },
     "execution_count": 17,
     "metadata": {},
     "output_type": "execute_result"
    }
   ],
   "source": [
    "from langchain_core.output_parsers import JsonOutputParser\n",
    "\n",
    "json_parser = JsonOutputParser()\n",
    "json_res = json_parser.parse(res.content)\n",
    "json_res\n",
    "job = json_res\n",
    "job['skills']"
   ]
  },
  {
   "cell_type": "markdown",
   "metadata": {},
   "source": [
    "# 2. Creating a ChromaDB for the content"
   ]
  },
  {
   "cell_type": "code",
   "execution_count": 20,
   "metadata": {},
   "outputs": [],
   "source": [
    "import pandas as pd\n",
    "\n",
    "df = pd.read_csv(\"C:/Users/Stuti/Downloads/vscode/.vscode/Practise/Llama3.1_gen/app/resource/my_portfolio.csv\")"
   ]
  },
  {
   "cell_type": "code",
   "execution_count": 14,
   "metadata": {},
   "outputs": [],
   "source": [
    "import chromadb\n",
    "import uuid\n",
    "\n",
    "client =  chromadb.PersistentClient('vectorstore')\n",
    "collection = client.get_or_create_collection(name = 'portfolio')\n",
    "\n",
    "if not collection.count():\n",
    "    for _, row in df.iterrows():\n",
    "        collection.add(documents = row['Techstack'],\n",
    "                       metadatas={'links': row['Links']},\n",
    "                       ids = [str(uuid.uuid4())])  "
   ]
  },
  {
   "cell_type": "code",
   "execution_count": 15,
   "metadata": {},
   "outputs": [
    {
     "data": {
      "text/plain": [
       "[[{'links': 'https://example.com/ml-python-portfolio'},\n",
       "  {'links': 'https://example.com/python-portfolio'}]]"
      ]
     },
     "execution_count": 15,
     "metadata": {},
     "output_type": "execute_result"
    }
   ],
   "source": [
    "links = collection.query(\n",
    "    query_texts = ['skills'] ,\n",
    "    n_results =  2).get('metadatas', [])\n",
    "links"
   ]
  },
  {
   "cell_type": "code",
   "execution_count": 19,
   "metadata": {},
   "outputs": [
    {
     "name": "stdout",
     "output_type": "stream",
     "text": [
      "content='Subject: Expert Machine Learning Solutions for Data Quality Enhancement\\n\\nDear Hiring Manager,\\n\\nI came across the job description for a Machine Learning Engineer - Data Quality, and I am excited to introduce Frontera, an AI & Software Consulting company that can fulfill your requirements. With 3+ years of experience in building ML solutions and collaborating with software teams, our team of experts can develop ML-based data validation and monitoring solutions, focusing on anomaly detection and explainability.\\n\\nAt Frontera, we have a strong portfolio in machine learning and data science, with expertise in Python (Pandas, NumPy, Scikit-learn, PyTorch/TensorFlow, etc.), SQL and databases (PostgreSQL, Snowflake, MySQL, etc.), and statistical methods (PCA, exponential smoothing, etc.). Our team is well-versed in version control (Git) and software development best practices, ensuring seamless collaboration and delivery.\\n\\nWe have experience in applying the full ML lifecycle, from exploratory data analysis (EDA) and feature engineering to model selection, training, deployment, and monitoring. Our team can experiment with different methodologies to improve model accuracy and reliability, and collaborate with data engineering teams to design frameworks for detecting missing, inconsistent, or duplicate data.\\n\\nSome of our notable projects include:\\n- Machine Learning with Python: https://example.com/ml-python-portfolio\\n- Python Portfolio: https://example.com/python-portfolio\\n\\nThese projects demonstrate our capability in developing and deploying machine learning models, data pipelines, and software applications. We are confident that our expertise can help you enhance your data quality and develop scalable, automated solutions for data quality issues.\\n\\nI would be delighted to discuss how Frontera can support your organization in achieving its data quality goals. Please feel free to contact me to schedule a call to explore further.\\n\\nBest regards,\\nMohan\\nBusiness Development Executive, Frontera' additional_kwargs={} response_metadata={'token_usage': {'completion_tokens': 374, 'prompt_tokens': 477, 'total_tokens': 851, 'completion_time': 1.3599999999999999, 'prompt_time': 0.039369623, 'queue_time': 0.060013385999999995, 'total_time': 1.3993696230000001}, 'model_name': 'llama-3.3-70b-versatile', 'system_fingerprint': 'fp_c4760ee73b', 'finish_reason': 'stop', 'logprobs': None} id='run-5792065f-6306-4a8c-a623-7f38246784c1-0' usage_metadata={'input_tokens': 477, 'output_tokens': 374, 'total_tokens': 851}\n"
     ]
    }
   ],
   "source": [
    "prompt_email = PromptTemplate.from_template(\n",
    "        \"\"\"\n",
    "        ### JOB DESCRIPTION:\n",
    "        {job_description}\n",
    "        \n",
    "        ### INSTRUCTION:\n",
    "        You are Stuti, an Artificial Intelligence Engineer at Frontera. Frontera is an AI & Software Consulting company dedicated to facilitating\n",
    "        the seamless integration of business processes through automated tools. \n",
    "        Over our experience, we have empowered numerous enterprises with tailored solutions, fostering scalability, \n",
    "        process optimization, cost reduction, and heightened overall efficiency. \n",
    "        Your job is to write a cold email to the client regarding the job mentioned above describing the capability of Frontera \n",
    "        in fulfilling their needs.\n",
    "        Also add the most relevant ones from the following links to showcase Frontera's portfolio: {link_list}\n",
    "        Remember you are Mohan, BDE at Frontera. \n",
    "        Do not provide a preamble.\n",
    "        ### EMAIL (NO PREAMBLE):\n",
    "        \n",
    "        \"\"\"\n",
    "        )\n",
    "\n",
    "chain_email = prompt_email | llm\n",
    "res_email = chain_email.invoke({\"job_description\": str(job), \"link_list\": links})\n",
    "print(res_email)"
   ]
  },
  {
   "cell_type": "code",
   "execution_count": null,
   "metadata": {},
   "outputs": [],
   "source": []
  }
 ],
 "metadata": {
  "kernelspec": {
   "display_name": "venv",
   "language": "python",
   "name": "python3"
  },
  "language_info": {
   "codemirror_mode": {
    "name": "ipython",
    "version": 3
   },
   "file_extension": ".py",
   "mimetype": "text/x-python",
   "name": "python",
   "nbconvert_exporter": "python",
   "pygments_lexer": "ipython3",
   "version": "3.10.0"
  }
 },
 "nbformat": 4,
 "nbformat_minor": 2
}
